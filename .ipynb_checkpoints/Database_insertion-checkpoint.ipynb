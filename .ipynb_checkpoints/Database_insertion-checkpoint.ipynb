{
 "cells": [
  {
   "cell_type": "code",
   "execution_count": 1,
   "metadata": {},
   "outputs": [
    {
     "name": "stdout",
     "output_type": "stream",
     "text": [
      "(('airlines',), ('airports',), ('flights',), ('planes',), ('weather',), ('weth_fly',))\n"
     ]
    }
   ],
   "source": [
    "import MySQLdb\n",
    "con=MySQLdb.connect(host='35.224.40.150',user='nassim' ,passwd='19101996',db='aeoport')\n",
    "cursor=con.cursor()\n",
    "\n",
    "\n",
    "\n",
    "cursor.execute(\"SELECT TABLE_NAME FROM INFORMATION_SCHEMA.TABLES WHERE TABLE_TYPE = 'BASE TABLE' AND TABLE_SCHEMA='aeoport' \")\n",
    "res=cursor.fetchall()\n",
    "print(res)\n"
   ]
  },
  {
   "cell_type": "code",
   "execution_count": null,
   "metadata": {},
   "outputs": [],
   "source": []
  },
  {
   "cell_type": "code",
   "execution_count": null,
   "metadata": {},
   "outputs": [],
   "source": [
    "sql='insert into airlines(carrier,names) values(%s,%s)'\n",
    "for row in range(len(airlines)):\n",
    "    cursor.execute(sql,tuple(airlines.iloc[row]))\n",
    "con.commit()\n"
   ]
  },
  {
   "cell_type": "code",
   "execution_count": null,
   "metadata": {},
   "outputs": [],
   "source": [
    "sql=\"insert into airports values(%s,%s,%s,%%s,%s,%s,%s,%s)\"\n",
    "\n",
    "for row in range(len(airports)):\n",
    "    cursor.execute(sql,tuple(airports.iloc[row]))\n",
    "con.commit()"
   ]
  },
  {
   "cell_type": "code",
   "execution_count": null,
   "metadata": {},
   "outputs": [],
   "source": [
    "sql=\"insert into planes values(%s,%s,%s,%s,%s,%s,%s,%s,%s)\"\n",
    "\n",
    "for row in range(len(planes)):\n",
    "    cursor.execute(sql,tuple(planes.iloc[row]))\n",
    "con.commit()"
   ]
  },
  {
   "cell_type": "code",
   "execution_count": null,
   "metadata": {},
   "outputs": [],
   "source": [
    "\n",
    "sql=\"insert into weather(origin,year, month, day, hour,temp, dewp, humid, wind_dir, wind_speed, wind_gust, precip, pressure, visib, time_hour) values(%s,%s,%s,%s,%s,%s,%s,%s,%s,%s,%s,%s,%s,%s,%s)\"\n",
    "for row in range(len(weather)):\n",
    "    cursor.execute(sql,tuple(weather.iloc[row]))\n",
    "con.commit()\n",
    "\n"
   ]
  }
 ],
 "metadata": {
  "kernelspec": {
   "display_name": "Python 3.6.9 64-bit",
   "language": "python",
   "name": "python36964bitd098e57e0b5d4c579baa4ee0e068110b"
  },
  "language_info": {
   "codemirror_mode": {
    "name": "ipython",
    "version": 3
   },
   "file_extension": ".py",
   "mimetype": "text/x-python",
   "name": "python",
   "nbconvert_exporter": "python",
   "pygments_lexer": "ipython3",
   "version": "3.6.9"
  }
 },
 "nbformat": 4,
 "nbformat_minor": 4
}
